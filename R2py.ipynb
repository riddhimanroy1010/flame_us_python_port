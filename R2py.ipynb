{
 "cells": [
  {
   "cell_type": "markdown",
   "metadata": {
    "id": "SlYE_EGP0n6D"
   },
   "source": [
    "All python imports are handled here"
   ]
  },
  {
   "cell_type": "code",
   "execution_count": 1,
   "metadata": {
    "colab": {
     "base_uri": "https://localhost:8080/"
    },
    "executionInfo": {
     "elapsed": 2857,
     "status": "ok",
     "timestamp": 1625667255540,
     "user": {
      "displayName": "Riddhiman Roy",
      "photoUrl": "https://lh3.googleusercontent.com/a-/AOh14GjwHMcbPFjlBJnI4wYI_AZ4jvo1ztMMuv8V-rNjOQ=s64",
      "userId": "17335733567872867762"
     },
     "user_tz": 240
    },
    "id": "_8ssSPnlKpv8",
    "outputId": "08d135d0-4a6d-4a61-ebcc-f91f321e22ea"
   },
   "outputs": [
    {
     "name": "stdout",
     "output_type": "stream",
     "text": [
      "Requirement already satisfied: rpy2 in /root/miniconda3/envs/timbit/lib/python3.9/site-packages (3.1.0)\n",
      "Requirement already satisfied: simplegeneric in /root/miniconda3/envs/timbit/lib/python3.9/site-packages (from rpy2) (0.8.1)\n",
      "Requirement already satisfied: cffi>=1.0.0 in /root/miniconda3/envs/timbit/lib/python3.9/site-packages (from rpy2) (1.12.3)\n",
      "Requirement already satisfied: jinja2 in /root/miniconda3/envs/timbit/lib/python3.9/site-packages (from rpy2) (3.0.1)\n",
      "Requirement already satisfied: pytz in /root/miniconda3/envs/timbit/lib/python3.9/site-packages (from rpy2) (2021.1)\n",
      "Requirement already satisfied: pytest in /root/miniconda3/envs/timbit/lib/python3.9/site-packages (from rpy2) (6.2.4)\n",
      "Requirement already satisfied: tzlocal in /root/miniconda3/envs/timbit/lib/python3.9/site-packages (from rpy2) (2.1)\n",
      "Requirement already satisfied: pycparser in /root/miniconda3/envs/timbit/lib/python3.9/site-packages (from cffi>=1.0.0->rpy2) (2.20)\n",
      "Requirement already satisfied: MarkupSafe>=2.0 in /root/miniconda3/envs/timbit/lib/python3.9/site-packages (from jinja2->rpy2) (2.0.1)\n",
      "Requirement already satisfied: iniconfig in /root/miniconda3/envs/timbit/lib/python3.9/site-packages (from pytest->rpy2) (1.1.1)\n",
      "Requirement already satisfied: attrs>=19.2.0 in /root/miniconda3/envs/timbit/lib/python3.9/site-packages (from pytest->rpy2) (21.2.0)\n",
      "Requirement already satisfied: py>=1.8.2 in /root/miniconda3/envs/timbit/lib/python3.9/site-packages (from pytest->rpy2) (1.10.0)\n",
      "Requirement already satisfied: packaging in /root/miniconda3/envs/timbit/lib/python3.9/site-packages (from pytest->rpy2) (21.0)\n",
      "Requirement already satisfied: toml in /root/miniconda3/envs/timbit/lib/python3.9/site-packages (from pytest->rpy2) (0.10.2)\n",
      "Requirement already satisfied: pluggy<1.0.0a1,>=0.12 in /root/miniconda3/envs/timbit/lib/python3.9/site-packages (from pytest->rpy2) (0.13.1)\n",
      "Requirement already satisfied: pyparsing>=2.0.2 in /root/miniconda3/envs/timbit/lib/python3.9/site-packages (from packaging->pytest->rpy2) (2.4.7)\n",
      "\u001b[33mWARNING: Running pip as the 'root' user can result in broken permissions and conflicting behaviour with the system package manager. It is recommended to use a virtual environment instead: https://pip.pypa.io/warnings/venv\u001b[0m\n"
     ]
    }
   ],
   "source": [
    "!pip install rpy2"
   ]
  },
  {
   "cell_type": "code",
   "execution_count": 2,
   "metadata": {
    "colab": {
     "base_uri": "https://localhost:8080/"
    },
    "executionInfo": {
     "elapsed": 2838,
     "status": "ok",
     "timestamp": 1625667259850,
     "user": {
      "displayName": "Riddhiman Roy",
      "photoUrl": "https://lh3.googleusercontent.com/a-/AOh14GjwHMcbPFjlBJnI4wYI_AZ4jvo1ztMMuv8V-rNjOQ=s64",
      "userId": "17335733567872867762"
     },
     "user_tz": 240
    },
    "id": "BTqTBdD5KmnP",
    "outputId": "c210d85d-7fa2-40a7-9175-5ffb425d8b1e"
   },
   "outputs": [
    {
     "name": "stdout",
     "output_type": "stream",
     "text": [
      "Requirement already satisfied: rdata in /root/miniconda3/envs/timbit/lib/python3.9/site-packages (0.5)\n",
      "Requirement already satisfied: xarray in /root/miniconda3/envs/timbit/lib/python3.9/site-packages (from rdata) (0.18.2)\n",
      "Requirement already satisfied: pandas in /root/miniconda3/envs/timbit/lib/python3.9/site-packages (from rdata) (1.3.0)\n",
      "Requirement already satisfied: numpy in /root/miniconda3/envs/timbit/lib/python3.9/site-packages (from rdata) (1.21.0)\n",
      "Requirement already satisfied: pytz>=2017.3 in /root/miniconda3/envs/timbit/lib/python3.9/site-packages (from pandas->rdata) (2021.1)\n",
      "Requirement already satisfied: python-dateutil>=2.7.3 in /root/miniconda3/envs/timbit/lib/python3.9/site-packages (from pandas->rdata) (2.8.1)\n",
      "Requirement already satisfied: six>=1.5 in /root/miniconda3/envs/timbit/lib/python3.9/site-packages (from python-dateutil>=2.7.3->pandas->rdata) (1.16.0)\n",
      "Requirement already satisfied: setuptools>=40.4 in /root/miniconda3/envs/timbit/lib/python3.9/site-packages (from xarray->rdata) (52.0.0.post20210125)\n",
      "\u001b[33mWARNING: Running pip as the 'root' user can result in broken permissions and conflicting behaviour with the system package manager. It is recommended to use a virtual environment instead: https://pip.pypa.io/warnings/venv\u001b[0m\n"
     ]
    }
   ],
   "source": [
    "!pip install rdata"
   ]
  },
  {
   "cell_type": "code",
   "execution_count": 3,
   "metadata": {},
   "outputs": [
    {
     "name": "stdout",
     "output_type": "stream",
     "text": [
      "Requirement already satisfied: matplotlib in /root/miniconda3/envs/timbit/lib/python3.9/site-packages (3.4.2)\n",
      "Requirement already satisfied: seaborn in /root/miniconda3/envs/timbit/lib/python3.9/site-packages (0.11.1)\n",
      "Requirement already satisfied: pyparsing>=2.2.1 in /root/miniconda3/envs/timbit/lib/python3.9/site-packages (from matplotlib) (2.4.7)\n",
      "Requirement already satisfied: pillow>=6.2.0 in /root/miniconda3/envs/timbit/lib/python3.9/site-packages (from matplotlib) (8.3.1)\n",
      "Requirement already satisfied: python-dateutil>=2.7 in /root/miniconda3/envs/timbit/lib/python3.9/site-packages (from matplotlib) (2.8.1)\n",
      "Requirement already satisfied: numpy>=1.16 in /root/miniconda3/envs/timbit/lib/python3.9/site-packages (from matplotlib) (1.21.0)\n",
      "Requirement already satisfied: kiwisolver>=1.0.1 in /root/miniconda3/envs/timbit/lib/python3.9/site-packages (from matplotlib) (1.3.1)\n",
      "Requirement already satisfied: cycler>=0.10 in /root/miniconda3/envs/timbit/lib/python3.9/site-packages (from matplotlib) (0.10.0)\n",
      "Requirement already satisfied: six in /root/miniconda3/envs/timbit/lib/python3.9/site-packages (from cycler>=0.10->matplotlib) (1.16.0)\n",
      "Requirement already satisfied: pandas>=0.23 in /root/miniconda3/envs/timbit/lib/python3.9/site-packages (from seaborn) (1.3.0)\n",
      "Requirement already satisfied: scipy>=1.0 in /root/miniconda3/envs/timbit/lib/python3.9/site-packages (from seaborn) (1.7.0)\n",
      "Requirement already satisfied: pytz>=2017.3 in /root/miniconda3/envs/timbit/lib/python3.9/site-packages (from pandas>=0.23->seaborn) (2021.1)\n",
      "\u001b[33mWARNING: Running pip as the 'root' user can result in broken permissions and conflicting behaviour with the system package manager. It is recommended to use a virtual environment instead: https://pip.pypa.io/warnings/venv\u001b[0m\n"
     ]
    }
   ],
   "source": [
    "!pip install matplotlib seaborn"
   ]
  },
  {
   "cell_type": "code",
   "execution_count": 4,
   "metadata": {},
   "outputs": [
    {
     "name": "stdout",
     "output_type": "stream",
     "text": [
      "Requirement already satisfied: cffi==1.12.3 in /root/miniconda3/envs/timbit/lib/python3.9/site-packages (1.12.3)\n",
      "Requirement already satisfied: pycparser in /root/miniconda3/envs/timbit/lib/python3.9/site-packages (from cffi==1.12.3) (2.20)\n",
      "\u001b[33mWARNING: Running pip as the 'root' user can result in broken permissions and conflicting behaviour with the system package manager. It is recommended to use a virtual environment instead: https://pip.pypa.io/warnings/venv\u001b[0m\n"
     ]
    }
   ],
   "source": [
    "!pip install cffi==1.12.3"
   ]
  },
  {
   "cell_type": "code",
   "execution_count": 12,
   "metadata": {},
   "outputs": [],
   "source": [
    "import os\n",
    "os.environ['R_HOME'] = 'C:\\\\Users\\\\riddh\\\\OneDrive - University of Toronto\\\\First Year\\\\Summer\\\\R-4.0.5'"
   ]
  },
  {
   "cell_type": "code",
   "execution_count": 16,
   "metadata": {
    "executionInfo": {
     "elapsed": 1411,
     "status": "ok",
     "timestamp": 1625667262858,
     "user": {
      "displayName": "Riddhiman Roy",
      "photoUrl": "https://lh3.googleusercontent.com/a-/AOh14GjwHMcbPFjlBJnI4wYI_AZ4jvo1ztMMuv8V-rNjOQ=s64",
      "userId": "17335733567872867762"
     },
     "user_tz": 240
    },
    "id": "9FKNo_DXkyF6"
   },
   "outputs": [
    {
     "ename": "FileNotFoundError",
     "evalue": "[Errno 2] No such file or directory: 'C:/Users/riddh/OneDrive - University of Toronto/First Year/Summer/R-4.0.5'",
     "output_type": "error",
     "traceback": [
      "\u001b[0;31m---------------------------------------------------------------------------\u001b[0m",
      "\u001b[0;31mFileNotFoundError\u001b[0m                         Traceback (most recent call last)",
      "\u001b[0;32m/tmp/ipykernel_661/3024677855.py\u001b[0m in \u001b[0;36m<module>\u001b[0;34m\u001b[0m\n\u001b[1;32m      3\u001b[0m \u001b[0;32mimport\u001b[0m \u001b[0mmatplotlib\u001b[0m\u001b[0;34m.\u001b[0m\u001b[0mpyplot\u001b[0m \u001b[0;32mas\u001b[0m \u001b[0mplt\u001b[0m\u001b[0;34m\u001b[0m\u001b[0;34m\u001b[0m\u001b[0m\n\u001b[1;32m      4\u001b[0m \u001b[0;32mimport\u001b[0m \u001b[0mseaborn\u001b[0m \u001b[0;32mas\u001b[0m \u001b[0msns\u001b[0m\u001b[0;34m\u001b[0m\u001b[0;34m\u001b[0m\u001b[0m\n\u001b[0;32m----> 5\u001b[0;31m \u001b[0;32mfrom\u001b[0m \u001b[0mrpy2\u001b[0m\u001b[0;34m.\u001b[0m\u001b[0mrobjects\u001b[0m \u001b[0;32mimport\u001b[0m \u001b[0mr\u001b[0m\u001b[0;34m\u001b[0m\u001b[0;34m\u001b[0m\u001b[0m\n\u001b[0m\u001b[1;32m      6\u001b[0m \u001b[0;32mimport\u001b[0m \u001b[0mrpy2\u001b[0m\u001b[0;34m.\u001b[0m\u001b[0mrobjects\u001b[0m\u001b[0;34m.\u001b[0m\u001b[0mpandas2ri\u001b[0m \u001b[0;32mas\u001b[0m \u001b[0mpandas2ri\u001b[0m\u001b[0;34m\u001b[0m\u001b[0;34m\u001b[0m\u001b[0m\n\u001b[1;32m      7\u001b[0m \u001b[0;32mimport\u001b[0m \u001b[0mrpy2\u001b[0m\u001b[0;34m\u001b[0m\u001b[0;34m\u001b[0m\u001b[0m\n",
      "\u001b[0;32m~/miniconda3/envs/timbit/lib/python3.9/site-packages/rpy2/robjects/__init__.py\u001b[0m in \u001b[0;36m<module>\u001b[0;34m\u001b[0m\n\u001b[1;32m     12\u001b[0m \u001b[0;32mimport\u001b[0m \u001b[0mtypes\u001b[0m\u001b[0;34m\u001b[0m\u001b[0;34m\u001b[0m\u001b[0m\n\u001b[1;32m     13\u001b[0m \u001b[0;32mimport\u001b[0m \u001b[0marray\u001b[0m\u001b[0;34m\u001b[0m\u001b[0;34m\u001b[0m\u001b[0m\n\u001b[0;32m---> 14\u001b[0;31m \u001b[0;32mimport\u001b[0m \u001b[0mrpy2\u001b[0m\u001b[0;34m.\u001b[0m\u001b[0mrinterface\u001b[0m \u001b[0;32mas\u001b[0m \u001b[0mrinterface\u001b[0m\u001b[0;34m\u001b[0m\u001b[0;34m\u001b[0m\u001b[0m\n\u001b[0m\u001b[1;32m     15\u001b[0m \u001b[0;32mimport\u001b[0m \u001b[0mrpy2\u001b[0m\u001b[0;34m.\u001b[0m\u001b[0mrlike\u001b[0m\u001b[0;34m.\u001b[0m\u001b[0mcontainer\u001b[0m \u001b[0;32mas\u001b[0m \u001b[0mrlc\u001b[0m\u001b[0;34m\u001b[0m\u001b[0;34m\u001b[0m\u001b[0m\n\u001b[1;32m     16\u001b[0m \u001b[0;34m\u001b[0m\u001b[0m\n",
      "\u001b[0;32m~/miniconda3/envs/timbit/lib/python3.9/site-packages/rpy2/rinterface.py\u001b[0m in \u001b[0;36m<module>\u001b[0;34m\u001b[0m\n\u001b[1;32m      4\u001b[0m \u001b[0;32mimport\u001b[0m \u001b[0mmath\u001b[0m\u001b[0;34m\u001b[0m\u001b[0;34m\u001b[0m\u001b[0m\n\u001b[1;32m      5\u001b[0m \u001b[0;32mimport\u001b[0m \u001b[0mtyping\u001b[0m\u001b[0;34m\u001b[0m\u001b[0;34m\u001b[0m\u001b[0m\n\u001b[0;32m----> 6\u001b[0;31m \u001b[0;32mfrom\u001b[0m \u001b[0mrpy2\u001b[0m\u001b[0;34m.\u001b[0m\u001b[0mrinterface_lib\u001b[0m \u001b[0;32mimport\u001b[0m \u001b[0mopenrlib\u001b[0m\u001b[0;34m\u001b[0m\u001b[0;34m\u001b[0m\u001b[0m\n\u001b[0m\u001b[1;32m      7\u001b[0m \u001b[0;32mimport\u001b[0m \u001b[0mrpy2\u001b[0m\u001b[0;34m.\u001b[0m\u001b[0mrinterface_lib\u001b[0m\u001b[0;34m.\u001b[0m\u001b[0m_rinterface_capi\u001b[0m \u001b[0;32mas\u001b[0m \u001b[0m_rinterface\u001b[0m\u001b[0;34m\u001b[0m\u001b[0;34m\u001b[0m\u001b[0m\n\u001b[1;32m      8\u001b[0m \u001b[0;32mimport\u001b[0m \u001b[0mrpy2\u001b[0m\u001b[0;34m.\u001b[0m\u001b[0mrinterface_lib\u001b[0m\u001b[0;34m.\u001b[0m\u001b[0membedded\u001b[0m \u001b[0;32mas\u001b[0m \u001b[0membedded\u001b[0m\u001b[0;34m\u001b[0m\u001b[0;34m\u001b[0m\u001b[0m\n",
      "\u001b[0;32m~/miniconda3/envs/timbit/lib/python3.9/site-packages/rpy2/rinterface_lib/openrlib.py\u001b[0m in \u001b[0;36m<module>\u001b[0;34m\u001b[0m\n\u001b[1;32m     22\u001b[0m \u001b[0;34m\u001b[0m\u001b[0m\n\u001b[1;32m     23\u001b[0m \u001b[0;34m\u001b[0m\u001b[0m\n\u001b[0;32m---> 24\u001b[0;31m \u001b[0mrlib\u001b[0m \u001b[0;34m=\u001b[0m \u001b[0m_dlopen_rlib\u001b[0m\u001b[0;34m(\u001b[0m\u001b[0mR_HOME\u001b[0m\u001b[0;34m)\u001b[0m\u001b[0;34m\u001b[0m\u001b[0;34m\u001b[0m\u001b[0m\n\u001b[0m\u001b[1;32m     25\u001b[0m \u001b[0;34m\u001b[0m\u001b[0m\n\u001b[1;32m     26\u001b[0m \u001b[0;34m\u001b[0m\u001b[0m\n",
      "\u001b[0;32m~/miniconda3/envs/timbit/lib/python3.9/site-packages/rpy2/rinterface_lib/openrlib.py\u001b[0m in \u001b[0;36m_dlopen_rlib\u001b[0;34m(r_home)\u001b[0m\n\u001b[1;32m     18\u001b[0m     \u001b[0;31m#lib_path = rpy2.situation.get_rlib_path(r_home, platform.system())\u001b[0m\u001b[0;34m\u001b[0m\u001b[0;34m\u001b[0m\u001b[0;34m\u001b[0m\u001b[0m\n\u001b[1;32m     19\u001b[0m     \u001b[0mlib_path\u001b[0m \u001b[0;34m=\u001b[0m \u001b[0;34m\"C:/Users/riddh/OneDrive - University of Toronto/First Year/Summer/R-4.0.5\"\u001b[0m\u001b[0;34m\u001b[0m\u001b[0;34m\u001b[0m\u001b[0m\n\u001b[0;32m---> 20\u001b[0;31m     \u001b[0mrlib\u001b[0m \u001b[0;34m=\u001b[0m \u001b[0mopen\u001b[0m\u001b[0;34m(\u001b[0m\u001b[0mlib_path\u001b[0m\u001b[0;34m)\u001b[0m\u001b[0;34m\u001b[0m\u001b[0;34m\u001b[0m\u001b[0m\n\u001b[0m\u001b[1;32m     21\u001b[0m     \u001b[0;32mreturn\u001b[0m \u001b[0mrlib\u001b[0m\u001b[0;34m\u001b[0m\u001b[0;34m\u001b[0m\u001b[0m\n\u001b[1;32m     22\u001b[0m \u001b[0;34m\u001b[0m\u001b[0m\n",
      "\u001b[0;31mFileNotFoundError\u001b[0m: [Errno 2] No such file or directory: 'C:/Users/riddh/OneDrive - University of Toronto/First Year/Summer/R-4.0.5'"
     ]
    }
   ],
   "source": [
    "import numpy as np\n",
    "import pandas as pd\n",
    "import matplotlib.pyplot as plt\n",
    "import seaborn as sns\n",
    "from rpy2.robjects import r\n",
    "import rpy2.robjects.pandas2ri as pandas2ri\n",
    "import rpy2\n",
    "import rpy2.robjects as robjects\n",
    "from rpy2.robjects.packages import importr\n",
    "#Import the SignatureTranslatedAnonymousPackage \n",
    "from rpy2.robjects.packages import SignatureTranslatedAnonymousPackage as STAP\n",
    "\n",
    "#Importing a converter from R to pandas for data processing\n",
    "from rpy2.robjects.conversion import localconverter"
   ]
  },
  {
   "cell_type": "markdown",
   "metadata": {
    "id": "IYT3yDz60ssu"
   },
   "source": [
    "Working to install all necessary R packages"
   ]
  },
  {
   "cell_type": "code",
   "execution_count": 23,
   "metadata": {
    "colab": {
     "base_uri": "https://localhost:8080/"
    },
    "executionInfo": {
     "elapsed": 24863,
     "status": "ok",
     "timestamp": 1625667315782,
     "user": {
      "displayName": "Riddhiman Roy",
      "photoUrl": "https://lh3.googleusercontent.com/a-/AOh14GjwHMcbPFjlBJnI4wYI_AZ4jvo1ztMMuv8V-rNjOQ=s64",
      "userId": "17335733567872867762"
     },
     "user_tz": 240
    },
    "id": "NpUyxuYGygSi",
    "outputId": "53343829-b4c2-4920-83e8-2d1f8e5c97d4"
   },
   "outputs": [
    {
     "ename": "OSError",
     "evalue": "cannot load library 'C:\\Users\\riddh\\ONEDRI~1\\FIRSTY~1\\Summer\\R-40~1.5/lib/libR.so': C:\\Users\\riddh\\ONEDRI~1\\FIRSTY~1\\Summer\\R-40~1.5/lib/libR.so: cannot open shared object file: No such file or directory",
     "output_type": "error",
     "traceback": [
      "\u001b[0;31m---------------------------------------------------------------------------\u001b[0m",
      "\u001b[0;31mOSError\u001b[0m                                   Traceback (most recent call last)",
      "\u001b[0;32m/tmp/ipykernel_218/3695158041.py\u001b[0m in \u001b[0;36m<module>\u001b[0;34m\u001b[0m\n\u001b[1;32m     20\u001b[0m       \u001b[0mutils\u001b[0m\u001b[0;34m.\u001b[0m\u001b[0minstall_packages\u001b[0m\u001b[0;34m(\u001b[0m\u001b[0mStrVector\u001b[0m\u001b[0;34m(\u001b[0m\u001b[0mnames_to_install\u001b[0m\u001b[0;34m)\u001b[0m\u001b[0;34m)\u001b[0m\u001b[0;34m\u001b[0m\u001b[0;34m\u001b[0m\u001b[0m\n\u001b[1;32m     21\u001b[0m \u001b[0;34m\u001b[0m\u001b[0m\n\u001b[0;32m---> 22\u001b[0;31m \u001b[0mrinit\u001b[0m\u001b[0;34m(\u001b[0m\u001b[0;34m)\u001b[0m\u001b[0;34m\u001b[0m\u001b[0;34m\u001b[0m\u001b[0m\n\u001b[0m",
      "\u001b[0;32m/tmp/ipykernel_218/3695158041.py\u001b[0m in \u001b[0;36mrinit\u001b[0;34m()\u001b[0m\n\u001b[1;32m      1\u001b[0m \u001b[0;32mdef\u001b[0m \u001b[0mrinit\u001b[0m\u001b[0;34m(\u001b[0m\u001b[0;34m)\u001b[0m\u001b[0;34m:\u001b[0m\u001b[0;34m\u001b[0m\u001b[0;34m\u001b[0m\u001b[0m\n\u001b[1;32m      2\u001b[0m   \u001b[0;31m# import rpy2's package module\u001b[0m\u001b[0;34m\u001b[0m\u001b[0;34m\u001b[0m\u001b[0;34m\u001b[0m\u001b[0m\n\u001b[0;32m----> 3\u001b[0;31m   \u001b[0;32mimport\u001b[0m \u001b[0mrpy2\u001b[0m\u001b[0;34m.\u001b[0m\u001b[0mrobjects\u001b[0m\u001b[0;34m.\u001b[0m\u001b[0mpackages\u001b[0m \u001b[0;32mas\u001b[0m \u001b[0mrpackages\u001b[0m\u001b[0;34m\u001b[0m\u001b[0;34m\u001b[0m\u001b[0m\n\u001b[0m\u001b[1;32m      4\u001b[0m \u001b[0;34m\u001b[0m\u001b[0m\n\u001b[1;32m      5\u001b[0m   \u001b[0;31m# import R's utility package\u001b[0m\u001b[0;34m\u001b[0m\u001b[0;34m\u001b[0m\u001b[0;34m\u001b[0m\u001b[0m\n",
      "\u001b[0;32m~/miniconda3/envs/timbit/lib/python3.9/site-packages/rpy2/robjects/__init__.py\u001b[0m in \u001b[0;36m<module>\u001b[0;34m\u001b[0m\n\u001b[1;32m     12\u001b[0m \u001b[0;32mimport\u001b[0m \u001b[0mtypes\u001b[0m\u001b[0;34m\u001b[0m\u001b[0;34m\u001b[0m\u001b[0m\n\u001b[1;32m     13\u001b[0m \u001b[0;32mimport\u001b[0m \u001b[0marray\u001b[0m\u001b[0;34m\u001b[0m\u001b[0;34m\u001b[0m\u001b[0m\n\u001b[0;32m---> 14\u001b[0;31m \u001b[0;32mimport\u001b[0m \u001b[0mrpy2\u001b[0m\u001b[0;34m.\u001b[0m\u001b[0mrinterface\u001b[0m \u001b[0;32mas\u001b[0m \u001b[0mrinterface\u001b[0m\u001b[0;34m\u001b[0m\u001b[0;34m\u001b[0m\u001b[0m\n\u001b[0m\u001b[1;32m     15\u001b[0m \u001b[0;32mimport\u001b[0m \u001b[0mrpy2\u001b[0m\u001b[0;34m.\u001b[0m\u001b[0mrlike\u001b[0m\u001b[0;34m.\u001b[0m\u001b[0mcontainer\u001b[0m \u001b[0;32mas\u001b[0m \u001b[0mrlc\u001b[0m\u001b[0;34m\u001b[0m\u001b[0;34m\u001b[0m\u001b[0m\n\u001b[1;32m     16\u001b[0m \u001b[0;34m\u001b[0m\u001b[0m\n",
      "\u001b[0;32m~/miniconda3/envs/timbit/lib/python3.9/site-packages/rpy2/rinterface.py\u001b[0m in \u001b[0;36m<module>\u001b[0;34m\u001b[0m\n\u001b[1;32m      4\u001b[0m \u001b[0;32mimport\u001b[0m \u001b[0mmath\u001b[0m\u001b[0;34m\u001b[0m\u001b[0;34m\u001b[0m\u001b[0m\n\u001b[1;32m      5\u001b[0m \u001b[0;32mimport\u001b[0m \u001b[0mtyping\u001b[0m\u001b[0;34m\u001b[0m\u001b[0;34m\u001b[0m\u001b[0m\n\u001b[0;32m----> 6\u001b[0;31m \u001b[0;32mfrom\u001b[0m \u001b[0mrpy2\u001b[0m\u001b[0;34m.\u001b[0m\u001b[0mrinterface_lib\u001b[0m \u001b[0;32mimport\u001b[0m \u001b[0mopenrlib\u001b[0m\u001b[0;34m\u001b[0m\u001b[0;34m\u001b[0m\u001b[0m\n\u001b[0m\u001b[1;32m      7\u001b[0m \u001b[0;32mimport\u001b[0m \u001b[0mrpy2\u001b[0m\u001b[0;34m.\u001b[0m\u001b[0mrinterface_lib\u001b[0m\u001b[0;34m.\u001b[0m\u001b[0m_rinterface_capi\u001b[0m \u001b[0;32mas\u001b[0m \u001b[0m_rinterface\u001b[0m\u001b[0;34m\u001b[0m\u001b[0;34m\u001b[0m\u001b[0m\n\u001b[1;32m      8\u001b[0m \u001b[0;32mimport\u001b[0m \u001b[0mrpy2\u001b[0m\u001b[0;34m.\u001b[0m\u001b[0mrinterface_lib\u001b[0m\u001b[0;34m.\u001b[0m\u001b[0membedded\u001b[0m \u001b[0;32mas\u001b[0m \u001b[0membedded\u001b[0m\u001b[0;34m\u001b[0m\u001b[0;34m\u001b[0m\u001b[0m\n",
      "\u001b[0;32m~/miniconda3/envs/timbit/lib/python3.9/site-packages/rpy2/rinterface_lib/openrlib.py\u001b[0m in \u001b[0;36m<module>\u001b[0;34m\u001b[0m\n\u001b[1;32m     21\u001b[0m \u001b[0;34m\u001b[0m\u001b[0m\n\u001b[1;32m     22\u001b[0m \u001b[0;34m\u001b[0m\u001b[0m\n\u001b[0;32m---> 23\u001b[0;31m \u001b[0mrlib\u001b[0m \u001b[0;34m=\u001b[0m \u001b[0m_dlopen_rlib\u001b[0m\u001b[0;34m(\u001b[0m\u001b[0mR_HOME\u001b[0m\u001b[0;34m)\u001b[0m\u001b[0;34m\u001b[0m\u001b[0;34m\u001b[0m\u001b[0m\n\u001b[0m\u001b[1;32m     24\u001b[0m \u001b[0;34m\u001b[0m\u001b[0m\n\u001b[1;32m     25\u001b[0m \u001b[0;34m\u001b[0m\u001b[0m\n",
      "\u001b[0;32m~/miniconda3/envs/timbit/lib/python3.9/site-packages/rpy2/rinterface_lib/openrlib.py\u001b[0m in \u001b[0;36m_dlopen_rlib\u001b[0;34m(r_home)\u001b[0m\n\u001b[1;32m     17\u001b[0m                          'Try python -m rpy2.situation')\n\u001b[1;32m     18\u001b[0m     \u001b[0mlib_path\u001b[0m \u001b[0;34m=\u001b[0m \u001b[0mrpy2\u001b[0m\u001b[0;34m.\u001b[0m\u001b[0msituation\u001b[0m\u001b[0;34m.\u001b[0m\u001b[0mget_rlib_path\u001b[0m\u001b[0;34m(\u001b[0m\u001b[0mr_home\u001b[0m\u001b[0;34m,\u001b[0m \u001b[0mplatform\u001b[0m\u001b[0;34m.\u001b[0m\u001b[0msystem\u001b[0m\u001b[0;34m(\u001b[0m\u001b[0;34m)\u001b[0m\u001b[0;34m)\u001b[0m\u001b[0;34m\u001b[0m\u001b[0;34m\u001b[0m\u001b[0m\n\u001b[0;32m---> 19\u001b[0;31m     \u001b[0mrlib\u001b[0m \u001b[0;34m=\u001b[0m \u001b[0mffi\u001b[0m\u001b[0;34m.\u001b[0m\u001b[0mdlopen\u001b[0m\u001b[0;34m(\u001b[0m\u001b[0mlib_path\u001b[0m\u001b[0;34m)\u001b[0m\u001b[0;34m\u001b[0m\u001b[0;34m\u001b[0m\u001b[0m\n\u001b[0m\u001b[1;32m     20\u001b[0m     \u001b[0;32mreturn\u001b[0m \u001b[0mrlib\u001b[0m\u001b[0;34m\u001b[0m\u001b[0;34m\u001b[0m\u001b[0m\n\u001b[1;32m     21\u001b[0m \u001b[0;34m\u001b[0m\u001b[0m\n",
      "\u001b[0;31mOSError\u001b[0m: cannot load library 'C:\\Users\\riddh\\ONEDRI~1\\FIRSTY~1\\Summer\\R-40~1.5/lib/libR.so': C:\\Users\\riddh\\ONEDRI~1\\FIRSTY~1\\Summer\\R-40~1.5/lib/libR.so: cannot open shared object file: No such file or directory"
     ]
    }
   ],
   "source": [
    "def rinit():\n",
    "  # import rpy2's package module\n",
    "  import rpy2.robjects.packages as rpackages\n",
    "\n",
    "  # import R's utility package\n",
    "  utils = rpackages.importr('utils')\n",
    "\n",
    "  # select a mirror for R packages\n",
    "  utils.chooseCRANmirror(ind=1) # select the first mirror in the list\n",
    "\n",
    "  packnames = ('readxl', 'reshape2', 'tidyr', 'stringr')\n",
    "\n",
    "  # R vector of strings\n",
    "  from rpy2.robjects.vectors import StrVector\n",
    "\n",
    "  # Selectively install what needs to be install.\n",
    "  # We are fancy, just because we can.\n",
    "  names_to_install = [x for x in packnames if not rpackages.isinstalled(x)]\n",
    "  if len(names_to_install) > 0:\n",
    "      utils.install_packages(StrVector(names_to_install))\n",
    "\n",
    "rinit()"
   ]
  },
  {
   "cell_type": "markdown",
   "metadata": {
    "id": "qZFv4xoK0xEe"
   },
   "source": [
    "Making the flame_us_code folder the current working directory"
   ]
  },
  {
   "cell_type": "code",
   "execution_count": 11,
   "metadata": {
    "colab": {
     "base_uri": "https://localhost:8080/"
    },
    "executionInfo": {
     "elapsed": 135,
     "status": "ok",
     "timestamp": 1625667325026,
     "user": {
      "displayName": "Riddhiman Roy",
      "photoUrl": "https://lh3.googleusercontent.com/a-/AOh14GjwHMcbPFjlBJnI4wYI_AZ4jvo1ztMMuv8V-rNjOQ=s64",
      "userId": "17335733567872867762"
     },
     "user_tz": 240
    },
    "id": "f4n_JUFw0Kjb",
    "outputId": "ccd7dcf9-b7e4-4bb7-900d-c05036aba1fb"
   },
   "outputs": [
    {
     "name": "stdout",
     "output_type": "stream",
     "text": [
      "/content/drive/My Drive/flame_us_code\n"
     ]
    }
   ],
   "source": []
  },
  {
   "cell_type": "markdown",
   "metadata": {
    "id": "Z0XW5uRG01qG"
   },
   "source": [
    "Verifying the current working folder: you should expect to see /content/drive/MyDrive/flame_us_code"
   ]
  },
  {
   "cell_type": "code",
   "execution_count": 12,
   "metadata": {
    "colab": {
     "base_uri": "https://localhost:8080/"
    },
    "executionInfo": {
     "elapsed": 261,
     "status": "ok",
     "timestamp": 1625667325854,
     "user": {
      "displayName": "Riddhiman Roy",
      "photoUrl": "https://lh3.googleusercontent.com/a-/AOh14GjwHMcbPFjlBJnI4wYI_AZ4jvo1ztMMuv8V-rNjOQ=s64",
      "userId": "17335733567872867762"
     },
     "user_tz": 240
    },
    "id": "Pazu79Th0W0s",
    "outputId": "18e4c61e-7f4f-4af7-ff11-917f8e58c665"
   },
   "outputs": [
    {
     "name": "stdout",
     "output_type": "stream",
     "text": [
      "/content/drive/My Drive/flame_us_code\n"
     ]
    }
   ],
   "source": []
  },
  {
   "cell_type": "markdown",
   "metadata": {
    "id": "o5DWLaGK0-Ya"
   },
   "source": [
    "Initializing the model"
   ]
  },
  {
   "cell_type": "code",
   "execution_count": null,
   "metadata": {
    "executionInfo": {
     "elapsed": 1296,
     "status": "ok",
     "timestamp": 1625669101623,
     "user": {
      "displayName": "Riddhiman Roy",
      "photoUrl": "https://lh3.googleusercontent.com/a-/AOh14GjwHMcbPFjlBJnI4wYI_AZ4jvo1ztMMuv8V-rNjOQ=s64",
      "userId": "17335733567872867762"
     },
     "user_tz": 240
    },
    "id": "CjFWyL23K-Yd"
   },
   "outputs": [],
   "source": [
    "def model_init():\n",
    "  robjects.r.source(\"model_setup.R\")\n",
    "  robjects.r.source(\"load_functions.R\")\n",
    "\n",
    "model_init()"
   ]
  },
  {
   "cell_type": "code",
   "execution_count": 6,
   "metadata": {
    "colab": {
     "base_uri": "https://localhost:8080/"
    },
    "executionInfo": {
     "elapsed": 2610,
     "status": "ok",
     "timestamp": 1625671026794,
     "user": {
      "displayName": "Riddhiman Roy",
      "photoUrl": "https://lh3.googleusercontent.com/a-/AOh14GjwHMcbPFjlBJnI4wYI_AZ4jvo1ztMMuv8V-rNjOQ=s64",
      "userId": "17335733567872867762"
     },
     "user_tz": 240
    },
    "id": "zs1zDHNmmuAc",
    "outputId": "06798334-bb80-481b-c929-5fdde93cbd83"
   },
   "outputs": [
    {
     "ename": "NameError",
     "evalue": "name 'STAP' is not defined",
     "output_type": "error",
     "traceback": [
      "\u001b[1;31m---------------------------------------------------------------------------\u001b[0m",
      "\u001b[1;31mNameError\u001b[0m                                 Traceback (most recent call last)",
      "\u001b[1;32m<ipython-input-6-afbc0a4ad898>\u001b[0m in \u001b[0;36m<module>\u001b[1;34m\u001b[0m\n\u001b[0;32m     15\u001b[0m     \u001b[1;32mreturn\u001b[0m \u001b[0moutput\u001b[0m\u001b[1;33m\u001b[0m\u001b[1;33m\u001b[0m\u001b[0m\n\u001b[0;32m     16\u001b[0m \u001b[1;33m\u001b[0m\u001b[0m\n\u001b[1;32m---> 17\u001b[1;33m \u001b[0mprint\u001b[0m\u001b[1;33m(\u001b[0m\u001b[0mFLAME_run_function\u001b[0m\u001b[1;33m(\u001b[0m\u001b[0mfun_name\u001b[0m\u001b[1;33m=\u001b[0m\u001b[1;34m\"fleet_vint_stock_f\"\u001b[0m\u001b[1;33m,\u001b[0m \u001b[0mindex\u001b[0m \u001b[1;33m=\u001b[0m \u001b[1;32mNone\u001b[0m\u001b[1;33m)\u001b[0m\u001b[1;33m)\u001b[0m\u001b[1;33m\u001b[0m\u001b[1;33m\u001b[0m\u001b[0m\n\u001b[0m",
      "\u001b[1;32m<ipython-input-6-afbc0a4ad898>\u001b[0m in \u001b[0;36mFLAME_run_function\u001b[1;34m(fun_name, index)\u001b[0m\n\u001b[0;32m      7\u001b[0m     \u001b[0mglobals\u001b[0m\u001b[1;33m(\u001b[0m\u001b[1;33m)\u001b[0m\u001b[1;33m[\u001b[0m\u001b[0mpy_func_name\u001b[0m\u001b[1;33m]\u001b[0m \u001b[1;33m=\u001b[0m \u001b[0mglobals\u001b[0m\u001b[1;33m(\u001b[0m\u001b[1;33m)\u001b[0m\u001b[1;33m[\u001b[0m\u001b[0mvar_to_open_as\u001b[0m\u001b[1;33m]\u001b[0m\u001b[1;33m.\u001b[0m\u001b[0mread\u001b[0m\u001b[1;33m(\u001b[0m\u001b[1;33m)\u001b[0m\u001b[1;33m\u001b[0m\u001b[1;33m\u001b[0m\u001b[0m\n\u001b[0;32m      8\u001b[0m \u001b[1;33m\u001b[0m\u001b[0m\n\u001b[1;32m----> 9\u001b[1;33m   \u001b[0mfun_res\u001b[0m \u001b[1;33m=\u001b[0m \u001b[0mSTAP\u001b[0m\u001b[1;33m(\u001b[0m\u001b[0mglobals\u001b[0m\u001b[1;33m(\u001b[0m\u001b[1;33m)\u001b[0m\u001b[1;33m[\u001b[0m\u001b[0mpy_func_name\u001b[0m\u001b[1;33m]\u001b[0m\u001b[1;33m,\u001b[0m \u001b[0mfun_name\u001b[0m \u001b[1;33m+\u001b[0m \u001b[1;34m'.R'\u001b[0m\u001b[1;33m)\u001b[0m\u001b[1;33m\u001b[0m\u001b[1;33m\u001b[0m\u001b[0m\n\u001b[0m\u001b[0;32m     10\u001b[0m   \u001b[0mcmd\u001b[0m\u001b[1;33m=\u001b[0m\u001b[1;34m'fun_res.'\u001b[0m \u001b[1;33m+\u001b[0m \u001b[0mfun_name\u001b[0m \u001b[1;33m+\u001b[0m \u001b[1;34m'()'\u001b[0m\u001b[1;33m\u001b[0m\u001b[1;33m\u001b[0m\u001b[0m\n\u001b[0;32m     11\u001b[0m   \u001b[0moutput\u001b[0m \u001b[1;33m=\u001b[0m \u001b[0meval\u001b[0m\u001b[1;33m(\u001b[0m\u001b[0mcmd\u001b[0m\u001b[1;33m)\u001b[0m\u001b[1;33m\u001b[0m\u001b[1;33m\u001b[0m\u001b[0m\n",
      "\u001b[1;31mNameError\u001b[0m: name 'STAP' is not defined"
     ]
    }
   ],
   "source": [
    "def FLAME_run_function(fun_name, index=0):\n",
    "  filepath = 'functions/' + fun_name + '.R'\n",
    "  var_to_open_as = fun_name.replace(\"_f\", \"\")\n",
    "  py_func_name = var_to_open_as + '_func'\n",
    "    \n",
    "  with open(filepath, 'r') as globals()[var_to_open_as]:\n",
    "    globals()[py_func_name] = globals()[var_to_open_as].read()\n",
    "\n",
    "  fun_res = STAP(globals()[py_func_name], fun_name + '.R') \n",
    "  cmd='fun_res.' + fun_name + '()'\n",
    "  output = eval(cmd)\n",
    "  if index:\n",
    "    return(output[index])\n",
    "  else:\n",
    "    return output\n",
    "\n",
    "print(FLAME_run_function(fun_name=\"fleet_vint_stock_f\", index = None))"
   ]
  },
  {
   "cell_type": "markdown",
   "metadata": {
    "id": "Yu8-UGCRmt1e"
   },
   "source": []
  },
  {
   "cell_type": "code",
   "execution_count": null,
   "metadata": {
    "id": "CaDg3ImtOL4V"
   },
   "outputs": [],
   "source": [
    "with open('functions/survival_rate_f.R', 'r') as survival_rates:\n",
    "  survival_rate_func = survival_rates.read()\n",
    "\n",
    "\n",
    "fun_res = STAP(survival_rate_func, \"survival_rate_f.R\")\n",
    "print(fun_res.__dict__)\n",
    "fleet_vkt_res = fun_res.survival_rate_f(year=2015, size=\"Car\")\n",
    "print(fleet_vkt_res)"
   ]
  },
  {
   "cell_type": "code",
   "execution_count": null,
   "metadata": {
    "id": "pY8-wcKBMg6n"
   },
   "outputs": [],
   "source": [
    "print(type(fleet_vkt_res))\n",
    "\n",
    "fleet_vkt_res_dt = pandas2ri.ri2py_vector(fleet_vkt_res)\n",
    "print(type(fleet_vkt_res_dt))\n",
    "print(fleet_vkt_res_dt)\n",
    "colnames = fleet_vkt_res.colnames\n",
    "rownames = fleet_vkt_res.rownames\n",
    "print(colnames, rownames)\n",
    "fleet_vkt_res_pd_dt = pd.DataFrame(fleet_vkt_res_dt, columns=colnames, index=rownames)\n",
    "print(fleet_vkt_res_pd_dt)\n",
    "plt.plot(colnames, fleet_vkt_res_dt[0])"
   ]
  }
 ],
 "metadata": {
  "colab": {
   "authorship_tag": "ABX9TyPjQQcF58Q533SMiijhb89x",
   "collapsed_sections": [],
   "mount_file_id": "1UlG-068XBUayGp4QJjl65iqC_pYsLtvV",
   "name": "R2py.ipynb",
   "provenance": []
  },
  "kernelspec": {
   "display_name": "Python 3 (ipykernel)",
   "language": "python",
   "name": "python3"
  },
  "language_info": {
   "codemirror_mode": {
    "name": "ipython",
    "version": 3
   },
   "file_extension": ".py",
   "mimetype": "text/x-python",
   "name": "python",
   "nbconvert_exporter": "python",
   "pygments_lexer": "ipython3",
   "version": "3.9.0"
  }
 },
 "nbformat": 4,
 "nbformat_minor": 1
}
